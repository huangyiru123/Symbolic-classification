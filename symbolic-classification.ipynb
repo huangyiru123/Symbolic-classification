{
 "cells": [
  {
   "cell_type": "code",
   "execution_count": 37,
   "id": "14342277-d8e9-450e-b665-cc4974a44835",
   "metadata": {},
   "outputs": [],
   "source": [
    "import pickle\n",
    "import matplotlib.pyplot as plot\n",
    "import seaborn as sns\n",
    "import matplotlib.pyplot as plt\n",
    "from sklearn import svm\n",
    "import numpy as np\n",
    "import pandas as pd\n",
    "from sklearn import preprocessing\n",
    "from pandas import DataFrame\n",
    "from sklearn.gaussian_process.kernels import RBF\n",
    "from sklearn.model_selection import KFold\n",
    "from sklearn.metrics import roc_curve, auc\n",
    "from sklearn.metrics import confusion_matrix\n",
    "from sklearn.model_selection import train_test_split\n",
    "from sklearn.metrics import accuracy_score\n",
    "from sklearn.metrics import f1_score\n",
    "from sklearn.svm import SVC\n",
    "from sklearn.model_selection import GridSearchCV\n",
    "import pickle\n",
    "from gplearn.genetic import SymbolicClassifier\n",
    "from sklearn.metrics import mean_squared_error\n",
    "import numpy as np\n",
    "from sklearn.tree import export_graphviz\n",
    "import pydotplus\n",
    "import graphviz\n",
    "from io import StringIO\n",
    "from IPython.display import Image"
   ]
  },
  {
   "cell_type": "code",
   "execution_count": 38,
   "id": "5c23b98b-d3ae-4f5d-994e-b559f692c94b",
   "metadata": {},
   "outputs": [],
   "source": [
    "dataset= r'train-data-after-RFE-20.csv'\n",
    "data=pd.DataFrame(pd.read_csv(dataset))"
   ]
  },
  {
   "cell_type": "code",
   "execution_count": 39,
   "id": "03c9f3d1-b918-48cc-a59f-08c8e1e5395d",
   "metadata": {},
   "outputs": [],
   "source": [
    "X = data.values[:, :-1]\n",
    "y = data.values[:, -1]\n",
    "X_train, X_test, y_train, y_test=train_test_split(X, y, test_size=0.5, random_state=1)\n",
    "\n",
    "\n",
    "for i in range(X_train.shape[1]):\n",
    "    X_train[:, [i]] = preprocessing.MinMaxScaler().fit_transform(X_train[:, [i]])\n",
    "\n",
    "\n",
    "\n",
    "for i in range(X_test.shape[1]):\n",
    "    X_test[:, [i]] = preprocessing.MinMaxScaler().fit_transform(X_test[:, [i]])"
   ]
  },
  {
   "cell_type": "code",
   "execution_count": 40,
   "id": "f95496c2-f2a0-4ede-bc82-b45633937d64",
   "metadata": {},
   "outputs": [],
   "source": [
    "feature_names = list(data.columns[:-1])"
   ]
  },
  {
   "cell_type": "code",
   "execution_count": 41,
   "id": "89ae6792-989c-4693-a919-0f92895dfa79",
   "metadata": {},
   "outputs": [
    {
     "name": "stdout",
     "output_type": "stream",
     "text": [
      "    |   Population Average    |             Best Individual              |\n",
      "---- ------------------------- ------------------------------------------ ----------\n",
      " Gen   Length          Fitness   Length          Fitness      OOB Fitness  Time Left\n",
      "   0    26.69          1.49718       63         0.151656              N/A      1.64m\n",
      "   1    22.52         0.881553       55        0.0703491              N/A      1.31m\n",
      "   2    43.50          1.09877       65       0.00112304              N/A      1.47m\n",
      "   3    56.71          1.24404       87      0.000426882              N/A      1.52m\n",
      "   4    60.33          1.39519       77      2.59484e-06              N/A      1.91m\n",
      "   5    57.18           1.9194       85      2.45082e-08              N/A      1.49m\n",
      "   6    50.29          2.30817       49      2.00342e-07              N/A      1.36m\n",
      "   7    43.29          2.00291       69      1.27774e-12              N/A      1.25m\n",
      "   8    34.14          1.57728       71      1.04678e-15              N/A      1.20m\n",
      "   9    27.42           1.1776       65      2.87389e-13              N/A      1.35m\n",
      "  10    23.58           1.1198       49      9.99201e-16              N/A      1.08m\n",
      "  11    20.98          1.32961       37      9.99201e-16              N/A      1.02m\n",
      "  12    18.68          1.40276       23      9.99201e-16              N/A     56.07s\n",
      "  13    15.42           1.8302       31      9.99201e-16              N/A      1.05m\n",
      "  14    11.99          2.76185       11      9.99201e-16              N/A     46.97s\n",
      "  15     9.32          3.13971       13      9.99201e-16              N/A     40.42s\n",
      "  16     8.18          2.96338       13      9.99201e-16              N/A     37.24s\n",
      "  17     7.12          2.38055       11      9.99201e-16              N/A     33.74s\n",
      "  18     7.03          2.18289       11      9.99201e-16              N/A     39.81s\n",
      "  19     7.03           2.2076        9      1.14194e-15              N/A     29.67s\n",
      "  20     7.01          2.24896        9      1.14194e-15              N/A     26.60s\n",
      "  21     7.00          1.76959       11      9.99201e-16              N/A     23.21s\n",
      "  22     6.96          1.80546        9      1.14194e-15              N/A     19.75s\n",
      "  23     6.99          1.77612        9      1.14194e-15              N/A     21.64s\n",
      "  24     7.01          1.87792        9      1.14194e-15              N/A     14.16s\n",
      "  25     7.01          1.88824       11      9.99201e-16              N/A     11.72s\n",
      "  26     7.03          1.97165        9      9.99201e-16              N/A      8.93s\n",
      "  27     6.99          1.97821       11      9.99201e-16              N/A      7.00s\n",
      "  28     7.04          1.97071        9      9.99201e-16              N/A      2.97s\n",
      "  29     7.00          1.75642        9      9.99201e-16              N/A      0.00s\n"
     ]
    },
    {
     "data": {
      "text/plain": [
       "SymbolicClassifier(generations=30, population_size=5000, verbose=1)"
      ]
     },
     "execution_count": 41,
     "metadata": {},
     "output_type": "execute_result"
    }
   ],
   "source": [
    "# # 定义符号回归模型，并使用训练数据拟合模型\n",
    "# reg = SymbolicRegressor(population_size=5000, generations=100, verbose=1,\n",
    "#                          function_set=['add', 'sub', 'mul', 'div', 'sqrt', 'log', 'abs', 'neg', \n",
    "#                                        'inv', 'max', 'min', 'sin', 'cos', 'tan'],\n",
    "#                          metric='mean absolute error', stopping_criteria=0.001,\n",
    "#                          random_state=0)\n",
    "# reg.fit(X_train, y_train)\n",
    "\n",
    "# 创建符号分类器\n",
    "reg = SymbolicClassifier(population_size=5000, generations=30, tournament_size=20,\n",
    "                         stopping_criteria=0.0, const_range=(-1.0, 1.0), verbose=1)\n",
    "reg.fit(X_train, y_train)"
   ]
  },
  {
   "cell_type": "code",
   "execution_count": 42,
   "id": "d94f34bd-8d08-4136-bb28-1a2f0a451fcb",
   "metadata": {},
   "outputs": [
    {
     "name": "stdout",
     "output_type": "stream",
     "text": [
      "{'0.142),', '0.142)', 'X19),', 'div(div(div(sub(X8,'}\n"
     ]
    }
   ],
   "source": [
    "print(set(str(reg._program).split()))"
   ]
  },
  {
   "cell_type": "code",
   "execution_count": null,
   "id": "8e552236-270b-4249-9df8-0f07721d7082",
   "metadata": {},
   "outputs": [],
   "source": []
  },
  {
   "cell_type": "code",
   "execution_count": 43,
   "id": "31f62cbe-038e-449f-9975-8c0eb3906a35",
   "metadata": {
    "scrolled": true
   },
   "outputs": [
    {
     "name": "stdout",
     "output_type": "stream",
     "text": [
      "Confusion Matrix:\n",
      "[[2 0]\n",
      " [1 4]]\n"
     ]
    },
    {
     "data": {
      "image/png": "[encoded data removed]",
      "text/plain": [
       "<Figure size 576x432 with 2 Axes>"
      ]
     },
     "metadata": {
      "needs_background": "light"
     },
     "output_type": "display_data"
    }
   ],
   "source": [
    "from sklearn.metrics import confusion_matrix, roc_curve, roc_auc_score\n",
    "import matplotlib.pyplot as plt\n",
    "\n",
    "# Prediction on test set\n",
    "y_pred = reg.predict(X_test)\n",
    "\n",
    "# Confusion matrix\n",
    "cm = confusion_matrix(y_test, y_pred)\n",
    "print(\"Confusion Matrix:\")\n",
    "print(cm)\n",
    "plt.figure(figsize=(8, 6))\n",
    "plt.imshow(cm, cmap=\"coolwarm\")\n",
    "# 图像标题和标签\n",
    "plt.title(\"Test-Confusion Matrix\", fontsize=28)\n",
    "plt.colorbar()\n",
    "plt.xlabel(\"Predicted\", fontsize=28)\n",
    "plt.ylabel(\"Actual\", fontsize=28)\n",
    "plt.xticks(np.arange(len(set(y))), set(y))\n",
    "plt.yticks(np.arange(len(set(y))), set(y))\n",
    "\n",
    "# Adding text to the confusion matrix cells with larger font size\n",
    "for i in range(len(set(y))):\n",
    "    for j in range(len(set(y))):\n",
    "        plt.text(j, i, cm[i, j], ha='center', va='center', color='black', fontsize=28)\n",
    "plt.savefig('混淆矩阵-test.png',dpi=1000)\n",
    "plt.show()\n"
   ]
  },
  {
   "cell_type": "code",
   "execution_count": 44,
   "id": "b916df2b-049b-425a-b936-484b83065892",
   "metadata": {},
   "outputs": [
    {
     "name": "stdout",
     "output_type": "stream",
     "text": [
      "Confusion Matrix:\n",
      "[[4 0]\n",
      " [0 3]]\n"
     ]
    },
    {
     "data": {
      "image/png": "[encoded data removed]",
      "text/plain": [
       "<Figure size 576x432 with 2 Axes>"
      ]
     },
     "metadata": {
      "needs_background": "light"
     },
     "output_type": "display_data"
    }
   ],
   "source": [
    "# from sklearn.metrics import confusion_matrix, roc_curve, roc_auc_score\n",
    "# import matplotlib.pyplot as plt\n",
    "\n",
    "# # Prediction on test set\n",
    "# y_pred = reg.predict(X_train)\n",
    "\n",
    "# # Confusion matrix\n",
    "# cm = confusion_matrix(y_train, y_pred)\n",
    "# print(\"Confusion Matrix:\")\n",
    "# print(cm)\n",
    "\n",
    "# plt.imshow(cm, cmap=\"Blues\")\n",
    "# plt.title(\"Confusion Matrix\")\n",
    "# plt.colorbar()\n",
    "# plt.xlabel(\"Predicted\")\n",
    "# plt.ylabel(\"Actual\")\n",
    "# plt.xticks(np.arange(len(set(y))), set(y))\n",
    "# plt.yticks(np.arange(len(set(y))), set(y))\n",
    "\n",
    "# # Adding text to the confusion matrix cells with larger font size\n",
    "# for i in range(len(set(y))):\n",
    "#     for j in range(len(set(y))):\n",
    "#         plt.text(j, i, cm[i, j], ha='center', va='center', color='red', fontsize=14)\n",
    "# plt.savefig('有NLP的train.png')\n",
    "# plt.show()\n",
    "\n",
    "from sklearn.metrics import confusion_matrix, roc_curve, roc_auc_score\n",
    "import matplotlib.pyplot as plt\n",
    "\n",
    "# Prediction on test set\n",
    "y_pred = reg.predict(X_train)\n",
    "\n",
    "# Confusion matrix\n",
    "cm = confusion_matrix(y_train, y_pred)\n",
    "print(\"Confusion Matrix:\")\n",
    "print(cm)\n",
    "plt.figure(figsize=(8, 6))\n",
    "plt.imshow(cm, cmap=\"coolwarm\")\n",
    "# 图像标题和标签\n",
    "plt.title(\"Train-Confusion Matrix\", fontsize=28)\n",
    "plt.colorbar()\n",
    "plt.xlabel(\"Predicted\", fontsize=28)\n",
    "plt.ylabel(\"Actual\", fontsize=28)\n",
    "plt.xticks(np.arange(len(set(y))), set(y))\n",
    "plt.yticks(np.arange(len(set(y))), set(y))\n",
    "\n",
    "# Adding text to the confusion matrix cells with larger font size\n",
    "for i in range(len(set(y))):\n",
    "    for j in range(len(set(y))):\n",
    "        plt.text(j, i, cm[i, j], ha='center', va='center', color='black', fontsize=28)\n",
    "plt.savefig('混淆矩阵-train.png',dpi=1000)\n",
    "plt.show()\n"
   ]
  },
  {
   "cell_type": "code",
   "execution_count": 49,
   "id": "90a3e229-57c2-4f67-8c31-57da164a18d8",
   "metadata": {},
   "outputs": [
    {
     "data": {
      "image/png": "[encoded data removed]",
      "text/plain": [
       "<Figure size 576x432 with 1 Axes>"
      ]
     },
     "metadata": {
      "needs_background": "light"
     },
     "output_type": "display_data"
    },
    {
     "name": "stdout",
     "output_type": "stream",
     "text": [
      "Accuracy: 0.8571428571428571\n"
     ]
    }
   ],
   "source": [
    "from sklearn.metrics import roc_curve\n",
    "import matplotlib.pyplot as plt\n",
    "import numpy as np\n",
    "\n",
    "# ROC Curve\n",
    "y_probs = reg.predict_proba(X_test)[:, 1]\n",
    "fpr, tpr, thresholds = roc_curve(y_test, y_probs)\n",
    "\n",
    "# 设置图像大小\n",
    "plt.figure(figsize=(8, 6))  # 设置为 8x6 英寸，可以根据需求调整\n",
    "\n",
    "# 绘制 ROC 曲线\n",
    "plt.plot(fpr, tpr, label='ROC Curve', linewidth=2)\n",
    "plt.plot([0, 1], [0, 1], 'k--', label='Random', linewidth=2)\n",
    "\n",
    "# 图像的标题和标签\n",
    "plt.xlabel('False Positive Rate', fontsize=14)\n",
    "plt.ylabel('True Positive Rate', fontsize=14)\n",
    "plt.title('Test-ROC Curve', fontsize=16)\n",
    "\n",
    "# 显示图例\n",
    "plt.legend(fontsize=12)\n",
    "\n",
    "# 保存图像并提高清晰度\n",
    "plt.savefig('ROC_Test.png', dpi=300)  # 设置 dpi=300 提高图像的分辨率\n",
    "\n",
    "# 展示图像\n",
    "plt.show()\n",
    "\n",
    "# Accuracy\n",
    "accuracy = reg.score(X_test, y_test)\n",
    "print(\"Accuracy:\", accuracy)\n"
   ]
  },
  {
   "cell_type": "code",
   "execution_count": 48,
   "id": "d1e6199e-076d-4baa-8ecd-262b8df08e2d",
   "metadata": {},
   "outputs": [
    {
     "data": {
      "image/png": "[encoded data removed]",
      "text/plain": [
       "<Figure size 576x432 with 1 Axes>"
      ]
     },
     "metadata": {
      "needs_background": "light"
     },
     "output_type": "display_data"
    },
    {
     "name": "stdout",
     "output_type": "stream",
     "text": [
      "Accuracy: 1.0\n"
     ]
    }
   ],
   "source": [
    "from sklearn.metrics import roc_curve\n",
    "import matplotlib.pyplot as plt\n",
    "import numpy as np\n",
    "\n",
    "# ROC Curve\n",
    "y_probs = reg.predict_proba(X_train)[:, 1]\n",
    "fpr, tpr, thresholds = roc_curve(y_train, y_probs)\n",
    "\n",
    "# 设置图像大小\n",
    "plt.figure(figsize=(8, 6))  # 设置为 8x6 英寸，可以根据需求调整\n",
    "\n",
    "# 绘制 ROC 曲线\n",
    "plt.plot(fpr, tpr, label='ROC Curve', linewidth=2)\n",
    "plt.plot([0, 1], [0, 1], 'k--', label='Random', linewidth=2)\n",
    "\n",
    "# 图像的标题和标签\n",
    "plt.xlabel('False Positive Rate', fontsize=14)\n",
    "plt.ylabel('True Positive Rate', fontsize=14)\n",
    "plt.title('Train-ROC Curve', fontsize=16)\n",
    "\n",
    "# 显示图例\n",
    "plt.legend(fontsize=12)\n",
    "\n",
    "# 保存图像并提高清晰度\n",
    "plt.savefig('ROC_Train.png', dpi=300)  # 设置 dpi=300 提高图像的分辨率\n",
    "\n",
    "# 展示图像\n",
    "plt.show()\n",
    "\n",
    "# Accuracy\n",
    "accuracy = reg.score(X_train, y_train)\n",
    "print(\"Accuracy:\", accuracy)\n"
   ]
  },
  {
   "cell_type": "code",
   "execution_count": 71,
   "id": "9ed14b90-75a9-43cd-81f6-67195dd560b3",
   "metadata": {},
   "outputs": [
    {
     "name": "stdout",
     "output_type": "stream",
     "text": [
      "Fitted symbolic equation:\n",
      "div(div(div(sub(X8, X19), 0.142), 0.142), 0.142)\n"
     ]
    },
    {
     "data": {
      "text/plain": [
       "'symbolic_tree.png'"
      ]
     },
     "execution_count": 71,
     "metadata": {},
     "output_type": "execute_result"
    }
   ],
   "source": [
    "# 打印符号回归公式\n",
    "print(\"Fitted symbolic equation:\")\n",
    "print(best_program)\n",
    "\n",
    "# 手动构建 Graphviz 格式的字符串\n",
    "def build_dot(program):\n",
    "    # 获取程序的字符串表示（符号表达式）\n",
    "    expression = str(program)\n",
    "    \n",
    "    # 初始化图的DOT格式\n",
    "    dot_string = \"digraph G {\\n\"\n",
    "    \n",
    "    # 以每个符号表达式为节点\n",
    "    nodes = expression.split()\n",
    "    node_id = 0\n",
    "    node_map = {}\n",
    "    \n",
    "    for node in nodes:\n",
    "        node_map[node_id] = node\n",
    "        dot_string += f'  node{node_id} [label=\"{node}\"];\\n'\n",
    "        node_id += 1\n",
    "    \n",
    "    # 假设树的结构是线性的，逐一连接每个节点\n",
    "    for i in range(1, len(nodes)):\n",
    "        dot_string += f'  node{i-1} -> node{i};\\n'\n",
    "    \n",
    "    dot_string += \"}\\n\"\n",
    "    \n",
    "    return dot_string\n",
    "\n",
    "# 获取 Graphviz 格式的 DOT 字符串\n",
    "dot_string = build_dot(best_program)\n",
    "\n",
    "# 使用 Graphviz 渲染和显示符号树\n",
    "graph = graphviz.Source(dot_string)\n",
    "graph.render(\"symbolic_tree\", format=\"png\", view=True)"
   ]
  },
  {
   "cell_type": "code",
   "execution_count": 33,
   "id": "c8b219b7-8d4f-442a-a62b-0cc37d34eb77",
   "metadata": {},
   "outputs": [
    {
     "name": "stdout",
     "output_type": "stream",
     "text": [
      "Name: graphviz\n",
      "Version: 0.19.1\n",
      "Summary: Simple Python interface for Graphviz\n",
      "Home-page: https://github.com/xflr6/graphviz\n",
      "Author: Sebastian Bank\n",
      "Author-email: sebastian.bank@uni-leipzig.de\n",
      "License: MIT\n",
      "Location: /public/home/huangyiru/.conda/envs/myenv/lib/python3.6/site-packages\n",
      "Requires: \n",
      "Required-by: \n",
      "Note: you may need to restart the kernel to use updated packages.\n"
     ]
    }
   ],
   "source": []
  },
  {
   "cell_type": "code",
   "execution_count": 47,
   "id": "2468a8d2-0edb-4a01-a9b4-70835f5212d0",
   "metadata": {},
   "outputs": [],
   "source": [
    "import pickle\n",
    "\n",
    "# 保存训练好的模型\n",
    "with open('symbol_classifier.pkl', 'wb') as file:\n",
    "    pickle.dump(reg, file)\n",
    "\n",
    "#"
   ]
  },
  {
   "cell_type": "code",
   "execution_count": 24,
   "id": "09c266bf-a233-402f-8734-4c9ff3a8c902",
   "metadata": {},
   "outputs": [],
   "source": [
    "pickle.dump(reg,open(\"reg.dat\",\"wb\"))"
   ]
  },
  {
   "cell_type": "code",
   "execution_count": 64,
   "id": "7ae453f1-3053-497a-815d-61b6e95fefa9",
   "metadata": {},
   "outputs": [],
   "source": [
    "import pickle\n",
    "\n",
    "# 加载训练好的模型\n",
    "with open('symbol_classifier.pkl', 'rb') as file:\n",
    "    reg = pickle.load(file)\n"
   ]
  },
  {
   "cell_type": "code",
   "execution_count": 65,
   "id": "4f4c0960-dccc-4c21-a2ff-fd167b8f87bd",
   "metadata": {},
   "outputs": [
    {
     "name": "stdout",
     "output_type": "stream",
     "text": [
      "Fitted symbolic equation:\n",
      "div(div(div(sub(X8, X19), 0.142), 0.142), 0.142)\n"
     ]
    }
   ],
   "source": [
    "# 打印拟合的符号回归公式\n",
    "print(\"Fitted symbolic equation:\")\n",
    "print(reg._program)\n"
   ]
  },
  {
   "cell_type": "code",
   "execution_count": null,
   "id": "a3d47695-4595-4a05-a098-79294c26bd1a",
   "metadata": {},
   "outputs": [],
   "source": [
    "\n"
   ]
  },
  {
   "cell_type": "code",
   "execution_count": null,
   "id": "a979b5e6-ce4c-4b49-a17b-aa9a8ae2434a",
   "metadata": {},
   "outputs": [],
   "source": []
  }
 ],
 "metadata": {
  "kernelspec": {
   "display_name": "myenv",
   "language": "python",
   "name": "myenv"
  },
  "language_info": {
   "codemirror_mode": {
    "name": "ipython",
    "version": 3
   },
   "file_extension": ".py",
   "mimetype": "text/x-python",
   "name": "python",
   "nbconvert_exporter": "python",
   "pygments_lexer": "ipython3",
   "version": "3.6.2"
  }
 },
 "nbformat": 4,
 "nbformat_minor": 5
}
